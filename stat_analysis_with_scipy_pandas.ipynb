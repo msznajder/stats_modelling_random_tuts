{
 "cells": [
  {
   "cell_type": "markdown",
   "metadata": {},
   "source": [
    "# Statistical analysis made easy in Python with SciPy and pandas DataFrames\n",
    "\n",
    "http://www.randalolson.com/2012/08/06/statistical-analysis-made-easy-in-python/\n",
    "\n",
    "In this section, we introduce a few useful methods for analyzing your data in Python. Namely, we cover how to compute the mean, variance, and standard error of a data set. For more advanced statistical analysis, we cover how to perform a Mann-Whitney-Wilcoxon (MWW) RankSum test, how to perform an Analysis of variance (ANOVA) between multiple data sets, and how to compute bootstrapped 95% confidence intervals for non-normally distributed data sets.\n",
    "\n",
    "For the purposes of this tutorial, we will use Luis Zaman’s [digital parasite data set](http://labfab.cc/)."
   ]
  },
  {
   "cell_type": "code",
   "execution_count": 1,
   "metadata": {
    "collapsed": true
   },
   "outputs": [],
   "source": [
    "import pandas as pd\n",
    "\n",
    "experiment_df = pd.read_csv(\"datasets/parasite_data.csv\", na_values=[\" \"])"
   ]
  },
  {
   "cell_type": "code",
   "execution_count": 2,
   "metadata": {
    "collapsed": false
   },
   "outputs": [
    {
     "data": {
      "text/html": [
       "<div>\n",
       "<table border=\"1\" class=\"dataframe\">\n",
       "  <thead>\n",
       "    <tr style=\"text-align: right;\">\n",
       "      <th></th>\n",
       "      <th>Virulence</th>\n",
       "      <th>Replicate</th>\n",
       "      <th>ShannonDiversity</th>\n",
       "    </tr>\n",
       "  </thead>\n",
       "  <tbody>\n",
       "    <tr>\n",
       "      <th>0</th>\n",
       "      <td>0.5</td>\n",
       "      <td>1</td>\n",
       "      <td>0.059262</td>\n",
       "    </tr>\n",
       "    <tr>\n",
       "      <th>1</th>\n",
       "      <td>0.5</td>\n",
       "      <td>2</td>\n",
       "      <td>1.093600</td>\n",
       "    </tr>\n",
       "    <tr>\n",
       "      <th>2</th>\n",
       "      <td>0.5</td>\n",
       "      <td>3</td>\n",
       "      <td>1.139390</td>\n",
       "    </tr>\n",
       "    <tr>\n",
       "      <th>3</th>\n",
       "      <td>0.5</td>\n",
       "      <td>4</td>\n",
       "      <td>0.547651</td>\n",
       "    </tr>\n",
       "    <tr>\n",
       "      <th>4</th>\n",
       "      <td>0.5</td>\n",
       "      <td>5</td>\n",
       "      <td>0.065928</td>\n",
       "    </tr>\n",
       "  </tbody>\n",
       "</table>\n",
       "</div>"
      ],
      "text/plain": [
       "   Virulence  Replicate  ShannonDiversity\n",
       "0        0.5          1          0.059262\n",
       "1        0.5          2          1.093600\n",
       "2        0.5          3          1.139390\n",
       "3        0.5          4          0.547651\n",
       "4        0.5          5          0.065928"
      ]
     },
     "execution_count": 2,
     "metadata": {},
     "output_type": "execute_result"
    }
   ],
   "source": [
    "experiment_df.head()"
   ]
  },
  {
   "cell_type": "code",
   "execution_count": 3,
   "metadata": {
    "collapsed": false
   },
   "outputs": [
    {
     "name": "stdout",
     "output_type": "stream",
     "text": [
      "<class 'pandas.core.frame.DataFrame'>\n",
      "RangeIndex: 350 entries, 0 to 349\n",
      "Data columns (total 3 columns):\n",
      "Virulence           300 non-null float64\n",
      "Replicate           350 non-null int64\n",
      "ShannonDiversity    350 non-null float64\n",
      "dtypes: float64(2), int64(1)\n",
      "memory usage: 8.3 KB\n"
     ]
    }
   ],
   "source": [
    "experiment_df.info()"
   ]
  },
  {
   "cell_type": "markdown",
   "metadata": {},
   "source": [
    "We need to take care of NaN value before moving on. We can either drop NaN values or fill them in with some value."
   ]
  },
  {
   "cell_type": "code",
   "execution_count": 4,
   "metadata": {
    "collapsed": true
   },
   "outputs": [],
   "source": [
    "experiment_drop_df = experiment_df.dropna()"
   ]
  },
  {
   "cell_type": "code",
   "execution_count": 5,
   "metadata": {
    "collapsed": true
   },
   "outputs": [],
   "source": [
    "experiment_fill_df = experiment_df.fillna(0.0)"
   ]
  },
  {
   "cell_type": "code",
   "execution_count": 6,
   "metadata": {
    "collapsed": false
   },
   "outputs": [
    {
     "data": {
      "text/plain": [
       "0.7500000000000013"
      ]
     },
     "execution_count": 6,
     "metadata": {},
     "output_type": "execute_result"
    }
   ],
   "source": [
    "experiment_drop_df[\"Virulence\"].mean()"
   ]
  },
  {
   "cell_type": "code",
   "execution_count": 7,
   "metadata": {
    "collapsed": false
   },
   "outputs": [
    {
     "data": {
      "text/plain": [
       "0.642857142857144"
      ]
     },
     "execution_count": 7,
     "metadata": {},
     "output_type": "execute_result"
    }
   ],
   "source": [
    "experiment_fill_df[\"Virulence\"].mean()"
   ]
  },
  {
   "cell_type": "markdown",
   "metadata": {},
   "source": [
    "### Mean of a data set\n",
    "\n",
    "The mean performance of an experiment gives a good idea of how the experiment will turn out on average under a given treatment."
   ]
  },
  {
   "cell_type": "code",
   "execution_count": 10,
   "metadata": {
    "collapsed": false
   },
   "outputs": [
    {
     "name": "stdout",
     "output_type": "stream",
     "text": [
      "Mean Shannon Diversity w/ 0.8 Parasite Virulence = 1.2691338187999996\n"
     ]
    }
   ],
   "source": [
    "print(\"Mean Shannon Diversity w/ 0.8 Parasite Virulence =\",  \n",
    "      experiment_df[experiment_df[\"Virulence\"] == 0.8][\"ShannonDiversity\"].mean())  "
   ]
  },
  {
   "cell_type": "markdown",
   "metadata": {},
   "source": [
    "### Variance in a data set\n",
    "The variance in the performance provides a measurement of how consistent the results of an experiment are. The lower the variance, the more consistent the results are, and vice versa.\n",
    "\n"
   ]
  },
  {
   "cell_type": "code",
   "execution_count": 13,
   "metadata": {
    "collapsed": false
   },
   "outputs": [
    {
     "name": "stdout",
     "output_type": "stream",
     "text": [
      "Variance in Shannon Diversity w/ 0.8 Parasite Virulence = 0.6110384333126732\n"
     ]
    }
   ],
   "source": [
    "print (\"Variance in Shannon Diversity w/ 0.8 Parasite Virulence =\",  \n",
    "       experiment_df[experiment_df[\"Virulence\"] == 0.8][\"ShannonDiversity\"].var())  "
   ]
  },
  {
   "cell_type": "markdown",
   "metadata": {},
   "source": [
    "### Standard Error of the Mean (SEM)\n",
    "Combined with the mean, the SEM enables you to establish a range around a mean that the majority of any future replicate experiments will most likely fall within.\n",
    "\n",
    "pandas DataFrames don’t have methods like SEM built in, but since DataFrame rows/columns are treated as lists, you can use any NumPy/SciPy method you like on them."
   ]
  },
  {
   "cell_type": "code",
   "execution_count": 14,
   "metadata": {
    "collapsed": true
   },
   "outputs": [],
   "source": [
    "from scipy import stats"
   ]
  },
  {
   "cell_type": "code",
   "execution_count": 15,
   "metadata": {
    "collapsed": false
   },
   "outputs": [
    {
     "name": "stdout",
     "output_type": "stream",
     "text": [
      "SEM of Shannon Diversity w/ 0.8 Parasite Virulence = 0.110547585529\n"
     ]
    }
   ],
   "source": [
    "print (\"SEM of Shannon Diversity w/ 0.8 Parasite Virulence =\",  \n",
    "    stats.sem(experiment_df[experiment_df[\"Virulence\"] == 0.8][\"ShannonDiversity\"])) "
   ]
  },
  {
   "cell_type": "markdown",
   "metadata": {},
   "source": [
    "A single SEM will usually envelop 68% of the possible replicate means and two SEMs envelop 95% of the possible replicate means. Two SEMs are called the “estimated 95% confidence interval.” The confidence interval is estimated because the exact width depend on how many replicates you have; this approximation is good when you have more than 20 replicates."
   ]
  },
  {
   "cell_type": "markdown",
   "metadata": {},
   "source": [
    "### Mann-Whitney-Wilcoxon (MWW) RankSum test\n",
    "\n",
    "The MWW RankSum test is a useful test to determine if two distributions are significantly different or not. Unlike the t-test, the RankSum test does not assume that the data are normally distributed, potentially providing a more accurate assessment of the data sets.\n",
    "\n",
    "As an example, let’s say we want to determine if the results of the two following treatments significantly differ or not."
   ]
  },
  {
   "cell_type": "code",
   "execution_count": 17,
   "metadata": {
    "collapsed": true
   },
   "outputs": [],
   "source": [
    "treatment1 = experiment_df[experiment_df[\"Virulence\"] == 0.5][\"ShannonDiversity\"]\n",
    "treatment2 = experiment_df[experiment_df[\"Virulence\"] == 0.8][\"ShannonDiversity\"]"
   ]
  },
  {
   "cell_type": "code",
   "execution_count": 18,
   "metadata": {
    "collapsed": false
   },
   "outputs": [
    {
     "data": {
      "text/plain": [
       "0     0.059262\n",
       "1     1.093600\n",
       "2     1.139390\n",
       "3     0.547651\n",
       "4     0.065928\n",
       "5     1.344330\n",
       "6     1.680480\n",
       "7     0.000000\n",
       "8     2.047680\n",
       "9     0.000000\n",
       "10    1.507140\n",
       "11    0.000000\n",
       "12    1.589810\n",
       "13    1.144800\n",
       "14    1.011190\n",
       "15    0.000000\n",
       "16    0.776665\n",
       "17    0.001749\n",
       "18    1.761200\n",
       "19    0.021091\n",
       "20    0.790915\n",
       "21    0.000000\n",
       "22    0.018866\n",
       "23    0.994268\n",
       "24    1.729620\n",
       "25    0.967537\n",
       "26    0.457318\n",
       "27    0.992525\n",
       "28    1.506640\n",
       "29    0.697241\n",
       "30    1.790580\n",
       "31    1.787710\n",
       "32    0.857742\n",
       "33    0.000000\n",
       "34    0.445267\n",
       "35    0.045471\n",
       "36    0.003490\n",
       "37    0.000000\n",
       "38    0.115830\n",
       "39    0.980076\n",
       "40    0.000000\n",
       "41    0.820405\n",
       "42    0.124755\n",
       "43    0.719755\n",
       "44    0.584252\n",
       "45    1.937930\n",
       "46    1.284150\n",
       "47    1.651680\n",
       "48    0.000000\n",
       "49    0.000000\n",
       "Name: ShannonDiversity, dtype: float64"
      ]
     },
     "execution_count": 18,
     "metadata": {},
     "output_type": "execute_result"
    }
   ],
   "source": [
    "treatment1"
   ]
  },
  {
   "cell_type": "code",
   "execution_count": 19,
   "metadata": {
    "collapsed": false
   },
   "outputs": [
    {
     "data": {
      "text/plain": [
       "150    1.433800\n",
       "151    2.079700\n",
       "152    0.892139\n",
       "153    2.384740\n",
       "154    0.006980\n",
       "155    1.971760\n",
       "156    0.000000\n",
       "157    1.428470\n",
       "158    1.715950\n",
       "159    0.000000\n",
       "160    0.421927\n",
       "161    1.179920\n",
       "162    0.932470\n",
       "163    2.032520\n",
       "164    0.960912\n",
       "165    2.384150\n",
       "166    1.879130\n",
       "167    1.238890\n",
       "168    1.584300\n",
       "169    1.118490\n",
       "170    2.022970\n",
       "171    0.000000\n",
       "172    2.138820\n",
       "173    2.533390\n",
       "174    1.212340\n",
       "175    0.059135\n",
       "176    1.578260\n",
       "177    1.725210\n",
       "178    0.293153\n",
       "179    0.000000\n",
       "180    0.000000\n",
       "181    1.699600\n",
       "182    2.178650\n",
       "183    1.792580\n",
       "184    1.920800\n",
       "185    0.000000\n",
       "186    1.583250\n",
       "187    0.343235\n",
       "188    1.980010\n",
       "189    0.980876\n",
       "190    1.089380\n",
       "191    0.979254\n",
       "192    1.190450\n",
       "193    1.738880\n",
       "194    1.154100\n",
       "195    1.981610\n",
       "196    2.077180\n",
       "197    1.566410\n",
       "198    0.000000\n",
       "199    1.990900\n",
       "Name: ShannonDiversity, dtype: float64"
      ]
     },
     "execution_count": 19,
     "metadata": {},
     "output_type": "execute_result"
    }
   ],
   "source": [
    "treatment2"
   ]
  },
  {
   "cell_type": "markdown",
   "metadata": {},
   "source": [
    "A RankSum test will provide a P value indicating whether or not the two distributions are the same."
   ]
  },
  {
   "cell_type": "code",
   "execution_count": 20,
   "metadata": {
    "collapsed": false
   },
   "outputs": [
    {
     "data": {
      "text/plain": [
       "RanksumsResult(statistic=-3.2952459004684997, pvalue=0.00098335590273505771)"
      ]
     },
     "execution_count": 20,
     "metadata": {},
     "output_type": "execute_result"
    }
   ],
   "source": [
    "stats.ranksums(treatment1, treatment2)"
   ]
  },
  {
   "cell_type": "markdown",
   "metadata": {},
   "source": [
    "If P <= 0.05, we are highly confident that the distributions significantly differ, and can claim that the treatments had a significant impact on the measured value. \n",
    "\n",
    "If the treatments do not significantly differ, we could expect a result such as the following."
   ]
  },
  {
   "cell_type": "code",
   "execution_count": 23,
   "metadata": {
    "collapsed": true
   },
   "outputs": [],
   "source": [
    "treatment3 = experiment_df[experiment_df[\"Virulence\"] == 0.8][\"ShannonDiversity\"]\n",
    "treatment4 = experiment_df[experiment_df[\"Virulence\"] == 0.9][\"ShannonDiversity\"]"
   ]
  },
  {
   "cell_type": "code",
   "execution_count": 25,
   "metadata": {
    "collapsed": false
   },
   "outputs": [
    {
     "data": {
      "text/plain": [
       "RanksumsResult(statistic=0.0068938198754571129, pvalue=0.99449957112420484)"
      ]
     },
     "execution_count": 25,
     "metadata": {},
     "output_type": "execute_result"
    }
   ],
   "source": [
    "stats.ranksums(treatment3, treatment4)"
   ]
  },
  {
   "cell_type": "markdown",
   "metadata": {},
   "source": [
    "With P > 0.05, we must say that the distributions do not significantly differ. Thus changing the parasite virulence between 0.8 and 0.9 does not result in a significant change in Shannon Diversity."
   ]
  },
  {
   "cell_type": "markdown",
   "metadata": {},
   "source": [
    "### One-way analysis of variance (ANOVA)\n",
    "\n",
    "If you need to compare more than two data sets at a time, an ANOVA is your best bet. For example, we have the results from three experiments with overlapping 95% confidence intervals, and we want to confirm that the results for all three experiments are not significantly different."
   ]
  },
  {
   "cell_type": "code",
   "execution_count": 27,
   "metadata": {
    "collapsed": true
   },
   "outputs": [],
   "source": [
    "treatment1 = experiment_df[experiment_df[\"Virulence\"] == 0.7][\"ShannonDiversity\"]\n",
    "treatment2 = experiment_df[experiment_df[\"Virulence\"] == 0.8][\"ShannonDiversity\"]\n",
    "treatment3 = experiment_df[experiment_df[\"Virulence\"] == 0.9][\"ShannonDiversity\"]"
   ]
  },
  {
   "cell_type": "code",
   "execution_count": 28,
   "metadata": {
    "collapsed": false
   },
   "outputs": [
    {
     "data": {
      "text/plain": [
       "F_onewayResult(statistic=0.96996402324598563, pvalue=0.38150948187410261)"
      ]
     },
     "execution_count": 28,
     "metadata": {},
     "output_type": "execute_result"
    }
   ],
   "source": [
    "stats.f_oneway(treatment1, treatment2, treatment3)"
   ]
  },
  {
   "cell_type": "markdown",
   "metadata": {},
   "source": [
    "If P > 0.05, we can claim with high confidence that the means of the results of all three experiments are not significantly different."
   ]
  }
 ],
 "metadata": {
  "kernelspec": {
   "display_name": "Python 3",
   "language": "python",
   "name": "python3"
  },
  "language_info": {
   "codemirror_mode": {
    "name": "ipython",
    "version": 3
   },
   "file_extension": ".py",
   "mimetype": "text/x-python",
   "name": "python",
   "nbconvert_exporter": "python",
   "pygments_lexer": "ipython3",
   "version": "3.6.3"
  }
 },
 "nbformat": 4,
 "nbformat_minor": 2
}
