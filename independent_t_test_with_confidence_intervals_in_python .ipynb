{
 "cells": [
  {
   "cell_type": "markdown",
   "metadata": {},
   "source": [
    "# Independent t-test with confidence intervals in Python "
   ]
  },
  {
   "cell_type": "code",
   "execution_count": 1,
   "metadata": {
    "collapsed": true
   },
   "outputs": [],
   "source": [
    "import pandas as pd\n",
    "from scipy import stats\n",
    "from math import sqrt\n",
    "from scipy.stats import t"
   ]
  },
  {
   "cell_type": "code",
   "execution_count": 2,
   "metadata": {
    "collapsed": true
   },
   "outputs": [],
   "source": [
    "data = pd.read_csv(\"datasets/PorkBeef.csv\")"
   ]
  },
  {
   "cell_type": "code",
   "execution_count": 3,
   "metadata": {
    "collapsed": false
   },
   "outputs": [
    {
     "data": {
      "text/html": [
       "<div>\n",
       "<table border=\"1\" class=\"dataframe\">\n",
       "  <thead>\n",
       "    <tr style=\"text-align: right;\">\n",
       "      <th></th>\n",
       "      <th>names</th>\n",
       "      <th>value</th>\n",
       "    </tr>\n",
       "  </thead>\n",
       "  <tbody>\n",
       "    <tr>\n",
       "      <th>0</th>\n",
       "      <td>pork</td>\n",
       "      <td>24</td>\n",
       "    </tr>\n",
       "    <tr>\n",
       "      <th>1</th>\n",
       "      <td>pork</td>\n",
       "      <td>124</td>\n",
       "    </tr>\n",
       "    <tr>\n",
       "      <th>2</th>\n",
       "      <td>pork</td>\n",
       "      <td>304</td>\n",
       "    </tr>\n",
       "    <tr>\n",
       "      <th>3</th>\n",
       "      <td>pork</td>\n",
       "      <td>446</td>\n",
       "    </tr>\n",
       "    <tr>\n",
       "      <th>4</th>\n",
       "      <td>pork</td>\n",
       "      <td>13</td>\n",
       "    </tr>\n",
       "  </tbody>\n",
       "</table>\n",
       "</div>"
      ],
      "text/plain": [
       "  names  value\n",
       "0  pork     24\n",
       "1  pork    124\n",
       "2  pork    304\n",
       "3  pork    446\n",
       "4  pork     13"
      ]
     },
     "execution_count": 3,
     "metadata": {},
     "output_type": "execute_result"
    }
   ],
   "source": [
    "data.head()"
   ]
  },
  {
   "cell_type": "code",
   "execution_count": 5,
   "metadata": {
    "collapsed": true
   },
   "outputs": [],
   "source": [
    "# Run independent t-test.\n",
    "ind_t_test = stats.ttest_ind(data[data[\"names\"] == \"beef\"][\"value\"],\n",
    "                             data[data[\"names\"] == \"pork\"][\"value\"])"
   ]
  },
  {
   "cell_type": "code",
   "execution_count": 7,
   "metadata": {
    "collapsed": false
   },
   "outputs": [
    {
     "name": "stdout",
     "output_type": "stream",
     "text": [
      "The results of the independent t-test are: \n",
      "\tt-value = 2.377\n",
      "\tp-value = 0.021\n",
      "\n",
      "The difference between groups is 91.6 [14.5 to 168.7] (mean [95% CI])\n"
     ]
    }
   ],
   "source": [
    "# Calculate the mean difference and 95% confidence interval\n",
    "N1 = 30\n",
    "N2 = 30\n",
    "df = (N1 + N2 - 2)\n",
    "std1 = data[data[\"names\"] == 'beef'][\"value\"].std()\n",
    "std2 = data[data[\"names\"] == 'pork'][\"value\"].std()\n",
    "std_N1N2 = sqrt( ((N1 - 1)*(std1)**2 + (N2 - 1)*(std2)**2) / df) \n",
    "\n",
    "diff_mean = data.value[data.names == 'beef'].mean() - data.value[data.names == 'pork'].mean()\n",
    "MoE = t.ppf(0.975, df) * std_N1N2 * sqrt(1/N1 + 1/N2)\n",
    "\n",
    "print('The results of the independent t-test are: \\n\\tt-value = {:4.3f}\\n\\tp-value = {:4.3f}'.format(ind_t_test[0],ind_t_test[1]))\n",
    "print ('\\nThe difference between groups is {:3.1f} [{:3.1f} to {:3.1f}] (mean [95% CI])'.format(diff_mean, diff_mean - MoE, diff_mean + MoE))"
   ]
  }
 ],
 "metadata": {
  "kernelspec": {
   "display_name": "Python 3",
   "language": "python",
   "name": "python3"
  },
  "language_info": {
   "codemirror_mode": {
    "name": "ipython",
    "version": 3
   },
   "file_extension": ".py",
   "mimetype": "text/x-python",
   "name": "python",
   "nbconvert_exporter": "python",
   "pygments_lexer": "ipython3",
   "version": "3.6.3"
  }
 },
 "nbformat": 4,
 "nbformat_minor": 2
}
