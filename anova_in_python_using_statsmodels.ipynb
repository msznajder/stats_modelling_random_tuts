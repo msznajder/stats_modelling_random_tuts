{
 "cells": [
  {
   "cell_type": "markdown",
   "metadata": {},
   "source": [
    "# ANOVA in python using pandas dataframe with statsmodels or scipy?\n"
   ]
  },
  {
   "cell_type": "code",
   "execution_count": 1,
   "metadata": {
    "collapsed": true
   },
   "outputs": [],
   "source": [
    "import pandas as pd\n",
    "import statsmodels.api as sm\n",
    "from statsmodels.formula.api import ols"
   ]
  },
  {
   "cell_type": "code",
   "execution_count": 2,
   "metadata": {
    "collapsed": true
   },
   "outputs": [],
   "source": [
    "cw = pd.read_csv(\"datasets/ChickWeight.csv\")"
   ]
  },
  {
   "cell_type": "code",
   "execution_count": 3,
   "metadata": {
    "collapsed": false
   },
   "outputs": [
    {
     "data": {
      "text/html": [
       "<div>\n",
       "<table border=\"1\" class=\"dataframe\">\n",
       "  <thead>\n",
       "    <tr style=\"text-align: right;\">\n",
       "      <th></th>\n",
       "      <th>weight</th>\n",
       "      <th>Time</th>\n",
       "      <th>Chick</th>\n",
       "      <th>Diet</th>\n",
       "    </tr>\n",
       "  </thead>\n",
       "  <tbody>\n",
       "    <tr>\n",
       "      <th>0</th>\n",
       "      <td>42</td>\n",
       "      <td>0</td>\n",
       "      <td>1</td>\n",
       "      <td>1</td>\n",
       "    </tr>\n",
       "    <tr>\n",
       "      <th>1</th>\n",
       "      <td>51</td>\n",
       "      <td>4</td>\n",
       "      <td>1</td>\n",
       "      <td>1</td>\n",
       "    </tr>\n",
       "    <tr>\n",
       "      <th>2</th>\n",
       "      <td>59</td>\n",
       "      <td>8</td>\n",
       "      <td>1</td>\n",
       "      <td>1</td>\n",
       "    </tr>\n",
       "    <tr>\n",
       "      <th>3</th>\n",
       "      <td>64</td>\n",
       "      <td>12</td>\n",
       "      <td>1</td>\n",
       "      <td>1</td>\n",
       "    </tr>\n",
       "    <tr>\n",
       "      <th>4</th>\n",
       "      <td>76</td>\n",
       "      <td>16</td>\n",
       "      <td>1</td>\n",
       "      <td>1</td>\n",
       "    </tr>\n",
       "  </tbody>\n",
       "</table>\n",
       "</div>"
      ],
      "text/plain": [
       "   weight  Time  Chick  Diet\n",
       "0      42     0      1     1\n",
       "1      51     4      1     1\n",
       "2      59     8      1     1\n",
       "3      64    12      1     1\n",
       "4      76    16      1     1"
      ]
     },
     "execution_count": 3,
     "metadata": {},
     "output_type": "execute_result"
    }
   ],
   "source": [
    "cw.head()"
   ]
  },
  {
   "cell_type": "code",
   "execution_count": 5,
   "metadata": {
    "collapsed": false
   },
   "outputs": [
    {
     "data": {
      "text/html": [
       "<table class=\"simpletable\">\n",
       "<caption>OLS Regression Results</caption>\n",
       "<tr>\n",
       "  <th>Dep. Variable:</th>         <td>weight</td>      <th>  R-squared:         </th> <td>   0.745</td> \n",
       "</tr>\n",
       "<tr>\n",
       "  <th>Model:</th>                   <td>OLS</td>       <th>  Adj. R-squared:    </th> <td>   0.744</td> \n",
       "</tr>\n",
       "<tr>\n",
       "  <th>Method:</th>             <td>Least Squares</td>  <th>  F-statistic:       </th> <td>   419.2</td> \n",
       "</tr>\n",
       "<tr>\n",
       "  <th>Date:</th>             <td>Fri, 05 Jan 2018</td> <th>  Prob (F-statistic):</th> <td>1.44e-168</td>\n",
       "</tr>\n",
       "<tr>\n",
       "  <th>Time:</th>                 <td>16:00:47</td>     <th>  Log-Likelihood:    </th> <td> -2888.8</td> \n",
       "</tr>\n",
       "<tr>\n",
       "  <th>No. Observations:</th>      <td>   578</td>      <th>  AIC:               </th> <td>   5788.</td> \n",
       "</tr>\n",
       "<tr>\n",
       "  <th>Df Residuals:</th>          <td>   573</td>      <th>  BIC:               </th> <td>   5809.</td> \n",
       "</tr>\n",
       "<tr>\n",
       "  <th>Df Model:</th>              <td>     4</td>      <th>                     </th>     <td> </td>    \n",
       "</tr>\n",
       "<tr>\n",
       "  <th>Covariance Type:</th>      <td>nonrobust</td>    <th>                     </th>     <td> </td>    \n",
       "</tr>\n",
       "</table>\n",
       "<table class=\"simpletable\">\n",
       "<tr>\n",
       "        <td></td>          <th>coef</th>     <th>std err</th>      <th>t</th>      <th>P>|t|</th> <th>[95.0% Conf. Int.]</th> \n",
       "</tr>\n",
       "<tr>\n",
       "  <th>Intercept</th>    <td>   10.9244</td> <td>    3.361</td> <td>    3.251</td> <td> 0.001</td> <td>    4.324    17.525</td>\n",
       "</tr>\n",
       "<tr>\n",
       "  <th>C(Diet)[T.2]</th> <td>   16.1661</td> <td>    4.086</td> <td>    3.957</td> <td> 0.000</td> <td>    8.141    24.191</td>\n",
       "</tr>\n",
       "<tr>\n",
       "  <th>C(Diet)[T.3]</th> <td>   36.4994</td> <td>    4.086</td> <td>    8.933</td> <td> 0.000</td> <td>   28.474    44.524</td>\n",
       "</tr>\n",
       "<tr>\n",
       "  <th>C(Diet)[T.4]</th> <td>   30.2335</td> <td>    4.107</td> <td>    7.361</td> <td> 0.000</td> <td>   22.166    38.301</td>\n",
       "</tr>\n",
       "<tr>\n",
       "  <th>Time</th>         <td>    4.3752</td> <td>    0.111</td> <td>   39.451</td> <td> 0.000</td> <td>    4.157     4.593</td>\n",
       "</tr>\n",
       "</table>\n",
       "<table class=\"simpletable\">\n",
       "<tr>\n",
       "  <th>Omnibus:</th>       <td>59.179</td> <th>  Durbin-Watson:     </th> <td>   0.419</td>\n",
       "</tr>\n",
       "<tr>\n",
       "  <th>Prob(Omnibus):</th> <td> 0.000</td> <th>  Jarque-Bera (JB):  </th> <td> 177.566</td>\n",
       "</tr>\n",
       "<tr>\n",
       "  <th>Skew:</th>          <td> 0.474</td> <th>  Prob(JB):          </th> <td>2.77e-39</td>\n",
       "</tr>\n",
       "<tr>\n",
       "  <th>Kurtosis:</th>      <td> 5.544</td> <th>  Cond. No.          </th> <td>    97.3</td>\n",
       "</tr>\n",
       "</table>"
      ],
      "text/plain": [
       "<class 'statsmodels.iolib.summary.Summary'>\n",
       "\"\"\"\n",
       "                            OLS Regression Results                            \n",
       "==============================================================================\n",
       "Dep. Variable:                 weight   R-squared:                       0.745\n",
       "Model:                            OLS   Adj. R-squared:                  0.744\n",
       "Method:                 Least Squares   F-statistic:                     419.2\n",
       "Date:                Fri, 05 Jan 2018   Prob (F-statistic):          1.44e-168\n",
       "Time:                        16:00:47   Log-Likelihood:                -2888.8\n",
       "No. Observations:                 578   AIC:                             5788.\n",
       "Df Residuals:                     573   BIC:                             5809.\n",
       "Df Model:                           4                                         \n",
       "Covariance Type:            nonrobust                                         \n",
       "================================================================================\n",
       "                   coef    std err          t      P>|t|      [95.0% Conf. Int.]\n",
       "--------------------------------------------------------------------------------\n",
       "Intercept       10.9244      3.361      3.251      0.001         4.324    17.525\n",
       "C(Diet)[T.2]    16.1661      4.086      3.957      0.000         8.141    24.191\n",
       "C(Diet)[T.3]    36.4994      4.086      8.933      0.000        28.474    44.524\n",
       "C(Diet)[T.4]    30.2335      4.107      7.361      0.000        22.166    38.301\n",
       "Time             4.3752      0.111     39.451      0.000         4.157     4.593\n",
       "==============================================================================\n",
       "Omnibus:                       59.179   Durbin-Watson:                   0.419\n",
       "Prob(Omnibus):                  0.000   Jarque-Bera (JB):              177.566\n",
       "Skew:                           0.474   Prob(JB):                     2.77e-39\n",
       "Kurtosis:                       5.544   Cond. No.                         97.3\n",
       "==============================================================================\n",
       "\n",
       "Warnings:\n",
       "[1] Standard Errors assume that the covariance matrix of the errors is correctly specified.\n",
       "\"\"\""
      ]
     },
     "execution_count": 5,
     "metadata": {},
     "output_type": "execute_result"
    }
   ],
   "source": [
    "cw_lm = ols(\"weight ~ Time + C(Diet)\", data=cw).fit()\n",
    "cw_lm.summary()"
   ]
  },
  {
   "cell_type": "code",
   "execution_count": null,
   "metadata": {
    "collapsed": true
   },
   "outputs": [],
   "source": []
  }
 ],
 "metadata": {
  "kernelspec": {
   "display_name": "Python 3",
   "language": "python",
   "name": "python3"
  },
  "language_info": {
   "codemirror_mode": {
    "name": "ipython",
    "version": 3
   },
   "file_extension": ".py",
   "mimetype": "text/x-python",
   "name": "python",
   "nbconvert_exporter": "python",
   "pygments_lexer": "ipython3",
   "version": "3.6.3"
  }
 },
 "nbformat": 4,
 "nbformat_minor": 2
}
